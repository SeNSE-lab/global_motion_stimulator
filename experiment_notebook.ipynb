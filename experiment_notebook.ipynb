{
 "cells": [
  {
   "cell_type": "markdown",
   "metadata": {},
   "source": [
    "## Import Slider Library and Load Speed Mappings"
   ]
  },
  {
   "cell_type": "code",
   "execution_count": null,
   "metadata": {},
   "outputs": [],
   "source": [
    "from sliderlib import *"
   ]
  },
  {
   "cell_type": "markdown",
   "metadata": {},
   "source": [
    "Use stored mappings"
   ]
  },
  {
   "cell_type": "code",
   "execution_count": null,
   "metadata": {},
   "outputs": [],
   "source": [
    "mapping_slow = load_mapping('slow')\n",
    "mapping_med = load_mapping('med')\n",
    "mapping_fast = load_mapping('fast')\n",
    "mappings = [mapping_fast, mapping_med, mapping_slow]"
   ]
  },
  {
   "cell_type": "markdown",
   "metadata": {},
   "source": [
    "Use custom mapping"
   ]
  },
  {
   "cell_type": "code",
   "execution_count": null,
   "metadata": {},
   "outputs": [],
   "source": [
    "# # {stepper_angle: [reverse_speed, forward_speed]}\n",
    "# mapping_slow = {0: [113, 102], 45: [92, 118], -45: [127, 80], 90: [110, 145], -90: [135, 75]}\n",
    "# mapping_med = {0: [155, 145], 45: [135, 160], -45: [170, 125], 90: [155, 185], -90: [179, 116]}\n",
    "# mapping_fast = {0: [230, 225], 45: [215, 230], -45: [245, 215], 90: [235, 250], -90: [235, 185]}\n",
    "# mappings = [mapping_fast, mapping_med, mapping_slow]"
   ]
  },
  {
   "cell_type": "markdown",
   "metadata": {},
   "source": [
    "## Start New Trial"
   ]
  },
  {
   "cell_type": "code",
   "execution_count": null,
   "metadata": {},
   "outputs": [],
   "source": [
    "animal_name = 'animal01'          \n",
    "experiment_tag = 'myExp'                   \n",
    "trial_id = 'cell00'                # note: the datetime the experiment is started is also included in title of datafile\n",
    "\n",
    "angle_order = [0, 45, -45, -90]    # degrees, note the slider will move forward and backward at each angle\n",
    "\n",
    "destination_folder='data'          # folder to store .csv log file\n",
    "mapping = mapping_fast             # choose mapping to be loaded (this can be changed during experiment)\n",
    "\n",
    "# closes last session if one is running\n",
    "try:\n",
    "    slider.ser.close()\n",
    "except:\n",
    "    pass\n",
    "\n",
    "slider = SliderController(mapping=mapping, angle_order=angle_order, dest_folder=destination_folder,\n",
    "                 animal_name=animal_name, exp_tag=experiment_tag, cell_id=trial_id)"
   ]
  },
  {
   "cell_type": "markdown",
   "metadata": {},
   "source": [
    "### Initialize Slider and Check Slider Position"
   ]
  },
  {
   "cell_type": "code",
   "execution_count": null,
   "metadata": {},
   "outputs": [],
   "source": [
    "# Initialize Slider: engages stepper motor, move to first angle in angle_order, moves slider so first slide will be forward\n",
    "slider.init()                           "
   ]
  },
  {
   "cell_type": "code",
   "execution_count": null,
   "metadata": {},
   "outputs": [],
   "source": [
    "slider.run_all(num_slides=2) #to position the slider to ensure that it goes through the whiskers in all directions"
   ]
  },
  {
   "cell_type": "markdown",
   "metadata": {},
   "source": [
    "### Run Trial\n",
    "Note a log is automaticallly generated and updated each time the slider moves"
   ]
  },
  {
   "cell_type": "code",
   "execution_count": null,
   "metadata": {},
   "outputs": [],
   "source": [
    "slider.init()"
   ]
  },
  {
   "cell_type": "markdown",
   "metadata": {},
   "source": [
    "Run slider in all positions in angle_order. Specify number of round trips to make at each angle."
   ]
  },
  {
   "cell_type": "code",
   "execution_count": null,
   "metadata": {},
   "outputs": [],
   "source": [
    "num_slides = 10\n",
    "\n",
    "slider.angle_order = angle_order\n",
    "for m in mappings:\n",
    "    if m == mapping_fast: print('\\n*********** FAST ***********')\n",
    "    elif m == mapping_med: print('\\n*********** MED ***********')\n",
    "    elif m == mapping_slow: print('\\n*********** SLOW ***********')\n",
    "\n",
    "    slider.mapping = m\n",
    "    slider.run_all(num_slides=num_slides)"
   ]
  },
  {
   "cell_type": "markdown",
   "metadata": {},
   "source": [
    "Add note to log"
   ]
  },
  {
   "cell_type": "code",
   "execution_count": null,
   "metadata": {},
   "outputs": [],
   "source": [
    "# slider.add_note('note to self')  # add note to last line of log"
   ]
  },
  {
   "cell_type": "markdown",
   "metadata": {},
   "source": [
    "## Alternative Usages and Additional Funcitonality"
   ]
  },
  {
   "cell_type": "markdown",
   "metadata": {},
   "source": [
    "#### Alterative ways to run trial"
   ]
  },
  {
   "cell_type": "markdown",
   "metadata": {},
   "source": [
    "Run all speeds at a single angle, or specific selection of angles"
   ]
  },
  {
   "cell_type": "code",
   "execution_count": null,
   "metadata": {
    "scrolled": true
   },
   "outputs": [],
   "source": [
    "num_slides = 10\n",
    "slider.angle_order = [0]  # Change the stored angles it will iterate through when you do slider.run_all(num_slides) to just do 0 deg\n",
    "\n",
    "for m in mappings:\n",
    "    if m == mapping_fast: print('\\n*********** FAST ***********')\n",
    "    elif m == mapping_med: print('\\n*********** MED ***********')\n",
    "    elif m == mapping_slow: print('\\n*********** SLOW ***********')\n",
    "    \n",
    "    slider.mapping = m\n",
    "    slider.run_all(num_slides=num_slides)"
   ]
  },
  {
   "cell_type": "markdown",
   "metadata": {},
   "source": [
    "Manual control"
   ]
  },
  {
   "cell_type": "code",
   "execution_count": null,
   "metadata": {},
   "outputs": [],
   "source": [
    "slider.move_stepper_to(-45)  # stepper position in deg"
   ]
  },
  {
   "cell_type": "code",
   "execution_count": null,
   "metadata": {},
   "outputs": [],
   "source": [
    "# may pass in number of round trips to complete, default is to just move to other end of track\n",
    "# may pass in cmd_speed (0-255), default is to use mapped speed for current angle\n",
    "slider.move_slider(num_slides=5) # cmd_speed=180  "
   ]
  },
  {
   "cell_type": "code",
   "execution_count": null,
   "metadata": {},
   "outputs": [],
   "source": [
    "slider.stepper_next()  # Move to next angle in angle order - slider.stepper_prev() to go to previous"
   ]
  },
  {
   "cell_type": "code",
   "execution_count": null,
   "metadata": {},
   "outputs": [],
   "source": [
    "slider.stepper_next(-15) # move slider by specified number of degrees"
   ]
  },
  {
   "cell_type": "code",
   "execution_count": null,
   "metadata": {},
   "outputs": [],
   "source": [
    "slider.mapping = mapping_slow   # change current mapping"
   ]
  },
  {
   "cell_type": "markdown",
   "metadata": {},
   "source": [
    "#### Test speed mappings\n",
    "(see testing/calibration notebooks for more instructions)"
   ]
  },
  {
   "cell_type": "code",
   "execution_count": null,
   "metadata": {
    "scrolled": true
   },
   "outputs": [],
   "source": [
    "slider.test_all(num_slides=2)  # run speed test on all positions"
   ]
  },
  {
   "cell_type": "code",
   "execution_count": null,
   "metadata": {},
   "outputs": [],
   "source": [
    "# slider.analyze_test_log()"
   ]
  },
  {
   "cell_type": "code",
   "execution_count": null,
   "metadata": {},
   "outputs": [],
   "source": [
    "#slider.move_stepper_to(90)"
   ]
  },
  {
   "cell_type": "markdown",
   "metadata": {},
   "source": [
    "#### Other possibly useful functionality"
   ]
  },
  {
   "cell_type": "markdown",
   "metadata": {},
   "source": [
    "print data from current session"
   ]
  },
  {
   "cell_type": "code",
   "execution_count": null,
   "metadata": {},
   "outputs": [],
   "source": [
    "slider.log"
   ]
  },
  {
   "cell_type": "markdown",
   "metadata": {},
   "source": [
    "save data with different title/locaiton"
   ]
  },
  {
   "cell_type": "code",
   "execution_count": null,
   "metadata": {},
   "outputs": [],
   "source": [
    "slider.write_data_to_csv(file_path=r\"C:\\Users\\me\\Desktop\\myfile\")"
   ]
  },
  {
   "cell_type": "markdown",
   "metadata": {},
   "source": [
    "add note to specific trial"
   ]
  },
  {
   "cell_type": "code",
   "execution_count": null,
   "metadata": {},
   "outputs": [],
   "source": [
    "slider.add_note(note = 'text note here', index=4)"
   ]
  },
  {
   "cell_type": "markdown",
   "metadata": {},
   "source": [
    "show full data log (if too long for above method to not be clipped)"
   ]
  },
  {
   "cell_type": "code",
   "execution_count": null,
   "metadata": {},
   "outputs": [],
   "source": [
    "import pandas as pd\n",
    "with pd.option_context('display.max_rows', None, 'display.max_columns', None):\n",
    "    display(slider.log)"
   ]
  },
  {
   "cell_type": "markdown",
   "metadata": {},
   "source": [
    "print current stepper info"
   ]
  },
  {
   "cell_type": "code",
   "execution_count": null,
   "metadata": {},
   "outputs": [],
   "source": [
    "slider.print_stepper_pos()"
   ]
  },
  {
   "cell_type": "code",
   "execution_count": null,
   "metadata": {
    "scrolled": true
   },
   "outputs": [],
   "source": [
    "slider.mapping"
   ]
  }
 ],
 "metadata": {
  "kernelspec": {
   "display_name": "Python 3 (ipykernel)",
   "language": "python",
   "name": "python3"
  },
  "language_info": {
   "codemirror_mode": {
    "name": "ipython",
    "version": 3
   },
   "file_extension": ".py",
   "mimetype": "text/x-python",
   "name": "python",
   "nbconvert_exporter": "python",
   "pygments_lexer": "ipython3",
   "version": "3.7.12"
  }
 },
 "nbformat": 4,
 "nbformat_minor": 2
}
