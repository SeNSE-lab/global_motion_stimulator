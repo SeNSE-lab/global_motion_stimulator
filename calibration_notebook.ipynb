{
 "cells": [
  {
   "cell_type": "markdown",
   "metadata": {},
   "source": [
    "## Calibration Notebook\n",
    "This demonstrates a technique to get initial estimations of speeds to command at each angle to achieve the \n",
    "same track speed. The arduino is too slow to provide accurate speed data, so all track speeds should be verrified \n",
    "with your DAQ.  \n",
    "\n",
    "General work flow is to select an angle, run speed tests for various commanded speeds (0-255), observe resultant track speed in m/s"
   ]
  },
  {
   "cell_type": "code",
   "execution_count": null,
   "metadata": {},
   "outputs": [],
   "source": [
    "from sliderlib import *\n",
    "import os\n",
    "import matplotlib.pyplot as plt"
   ]
  },
  {
   "cell_type": "markdown",
   "metadata": {},
   "source": [
    "\n",
    "#### Mapping example"
   ]
  },
  {
   "cell_type": "code",
   "execution_count": null,
   "metadata": {},
   "outputs": [],
   "source": [
    "# Format--   stepper_angle(deg): [reverse_speed, forward_speed]\n",
    "#    you only need to map the angles you care about. can delete the rest.\n",
    "mapping_example = {0: [200, 200], 15: [200, 200], -15: [200, 200], 30: [200, 200], -30: [200, 200],\n",
    "                45: [200, 200], -45: [200, 200], 60: [200, 200], -60: [200, 200], 75: [200, 200], \n",
    "                 -75: [200, 200], 90: [200, 200]}"
   ]
  },
  {
   "cell_type": "markdown",
   "metadata": {},
   "source": [
    "#### Start new session"
   ]
  },
  {
   "cell_type": "code",
   "execution_count": null,
   "metadata": {},
   "outputs": [],
   "source": [
    "animal_name = 'testtest'\n",
    "experiment_tag = 'testing'   # note: the datetime the experiment is started is also included in title of datafile\n",
    "destination_folder='data'   # folder to store datafile\n",
    "angle_order = list(range(90,-91,-15)).insert(0,0)   # optional, currently all multiples of 15 from 90 to -90\n",
    "my_mapping = {}\n",
    "\n",
    "# closes last session if one is running\n",
    "try:\n",
    "    slider.ser.close()\n",
    "except:\n",
    "    pass\n",
    "\n",
    "slider = SliderController(mapping=my_mapping,angle_order=angle_order, dest_folder=destination_folder,\n",
    "                 animal_name=animal_name, exp_tag=experiment_tag)"
   ]
  },
  {
   "cell_type": "code",
   "execution_count": null,
   "metadata": {},
   "outputs": [],
   "source": [
    "slider.init()"
   ]
  },
  {
   "cell_type": "markdown",
   "metadata": {},
   "source": [
    "#### Change angle"
   ]
  },
  {
   "cell_type": "code",
   "execution_count": null,
   "metadata": {},
   "outputs": [],
   "source": [
    "slider.move_stepper_to(90)  # stepper angle in degrees\n",
    "# alterative- iterate through angle_order:\n",
    "# slider.stepper_next()"
   ]
  },
  {
   "cell_type": "markdown",
   "metadata": {},
   "source": [
    "#### Test speed\n",
    "returns average velocity of the slider during the middle third of the trajectory"
   ]
  },
  {
   "cell_type": "code",
   "execution_count": null,
   "metadata": {
    "scrolled": true
   },
   "outputs": [],
   "source": [
    "# speed = 250 # 0 - 255, too low and slider will stall\n",
    "fwd_speed = 250\n",
    "bck_speed = 250\n",
    "num_trials = 2\n",
    "timestamps_fwd, pos_fwd, timestamps_bck, pos_bck, speed_fwd, speed_rev = slider.test_slider_speed(fwd_speed, bck_speed, num_trials)"
   ]
  },
  {
   "cell_type": "markdown",
   "metadata": {},
   "source": [
    "view testing stats"
   ]
  },
  {
   "cell_type": "code",
   "execution_count": null,
   "metadata": {},
   "outputs": [],
   "source": [
    "slider.test_log"
   ]
  },
  {
   "cell_type": "code",
   "execution_count": null,
   "metadata": {},
   "outputs": [],
   "source": [
    "slider.analyze_test_log()\n",
    "# print(slider.test_log)  # see all results"
   ]
  },
  {
   "cell_type": "markdown",
   "metadata": {},
   "source": [
    "plot last trial"
   ]
  },
  {
   "cell_type": "code",
   "execution_count": null,
   "metadata": {},
   "outputs": [],
   "source": [
    "# plot forward trajectory:\n",
    "plt.plot(timestamps_fwd, pos_fwd)\n",
    "plt.show()"
   ]
  },
  {
   "cell_type": "code",
   "execution_count": null,
   "metadata": {},
   "outputs": [],
   "source": [
    "# plot backward trajectory:\n",
    "plt.plot(timestamps_bck, pos_bck)\n",
    "plt.show()"
   ]
  },
  {
   "cell_type": "markdown",
   "metadata": {},
   "source": [
    "add a mapping to current mapping (you could also just write it out below using format above)"
   ]
  },
  {
   "cell_type": "code",
   "execution_count": null,
   "metadata": {},
   "outputs": [],
   "source": [
    "angle = slider.cmd_pos   # current commanded angle, could also just type desired angle\n",
    "bck_speed = 150\n",
    "fwd_speed = 150\n",
    "my_mapping[angle] = [bck_speed, fwd_speed]\n",
    "print(my_mapping)"
   ]
  },
  {
   "cell_type": "markdown",
   "metadata": {},
   "source": [
    "#### Store mapping to file"
   ]
  },
  {
   "cell_type": "code",
   "execution_count": null,
   "metadata": {
    "scrolled": true
   },
   "outputs": [],
   "source": [
    "#new_mapping = fast\n",
    "fast = {0: [230, 225], 45: [215, 230], -45: [245, 215], 90: [235, 250], -90: [235, 185]}"
   ]
  },
  {
   "cell_type": "code",
   "execution_count": null,
   "metadata": {
    "scrolled": true
   },
   "outputs": [],
   "source": [
    "mapping_to_store = fast \n",
    "# or if you were updating my_mapping:\n",
    "# mapping_to_store = my_mapping\n",
    "name = 'fast'\n",
    "directory = 'mappings' # store to mappings folder, could put in r\"C:\\full\\path\\to\\directory\"\n",
    "store_mapping(mapping_to_store, name=name, directory=directory)"
   ]
  },
  {
   "cell_type": "code",
   "execution_count": null,
   "metadata": {},
   "outputs": [],
   "source": [
    "#new_mapping = med\n",
    "med = {0: [155, 145], 45: [135, 160], -45: [170, 125], 90: [155, 185],-90: [179, 116]}"
   ]
  },
  {
   "cell_type": "code",
   "execution_count": null,
   "metadata": {},
   "outputs": [],
   "source": [
    "mapping_to_store = med  \n",
    "# or if you were updating my_mapping:\n",
    "# mapping_to_store = my_mapping\n",
    "name = 'med'\n",
    "directory = 'mappings' # store to mappings folder, could put in r\"C:\\full\\path\\to\\directory\"\n",
    "store_mapping(mapping_to_store, name=name, directory=directory)"
   ]
  },
  {
   "cell_type": "code",
   "execution_count": null,
   "metadata": {},
   "outputs": [],
   "source": [
    "#new_mapping = slow\n",
    "slow = {0: [113, 102], 45: [92, 118], -45: [127, 80], 90: [110, 145], -90: [135, 75]}"
   ]
  },
  {
   "cell_type": "code",
   "execution_count": null,
   "metadata": {},
   "outputs": [],
   "source": [
    "mapping_to_store = slow\n",
    "# or if you were updating my_mapping:\n",
    "# mapping_to_store = my_mapping\n",
    "name = 'slow'\n",
    "directory = 'mappings' # store to mappings folder, could put in r\"C:\\full\\path\\to\\directory\"\n",
    "store_mapping(mapping_to_store, name=name, directory=directory)"
   ]
  },
  {
   "cell_type": "markdown",
   "metadata": {},
   "source": [
    "#### Save test log\n",
    "\n",
    "optional params: `(title, dest_folder)`   \n",
    "default is to use standard title with 'testLog' prepended and store in original destination folder"
   ]
  },
  {
   "cell_type": "code",
   "execution_count": null,
   "metadata": {},
   "outputs": [],
   "source": [
    "slider.store_test_log() #params: title, dest_folder"
   ]
  }
 ],
 "metadata": {
  "kernelspec": {
   "display_name": "Python 3",
   "language": "python",
   "name": "python3"
  },
  "language_info": {
   "codemirror_mode": {
    "name": "ipython",
    "version": 3
   },
   "file_extension": ".py",
   "mimetype": "text/x-python",
   "name": "python",
   "nbconvert_exporter": "python",
   "pygments_lexer": "ipython3",
   "version": "3.8.8"
  }
 },
 "nbformat": 4,
 "nbformat_minor": 2
}
